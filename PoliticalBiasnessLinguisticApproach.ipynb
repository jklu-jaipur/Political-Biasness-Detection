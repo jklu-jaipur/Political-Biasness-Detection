{
 "cells": [
  {
   "cell_type": "code",
   "execution_count": 1,
   "metadata": {
    "scrolled": true
   },
   "outputs": [],
   "source": [
    "import pandas as pd\n",
    "import re\n",
    "import string\n",
    "from textblob import TextBlob\n",
    "import nltk"
   ]
  },
  {
   "cell_type": "code",
   "execution_count": 2,
   "metadata": {},
   "outputs": [
    {
     "data": {
      "text/html": [
       "<div>\n",
       "<style scoped>\n",
       "    .dataframe tbody tr th:only-of-type {\n",
       "        vertical-align: middle;\n",
       "    }\n",
       "\n",
       "    .dataframe tbody tr th {\n",
       "        vertical-align: top;\n",
       "    }\n",
       "\n",
       "    .dataframe thead th {\n",
       "        text-align: right;\n",
       "    }\n",
       "</style>\n",
       "<table border=\"1\" class=\"dataframe\">\n",
       "  <thead>\n",
       "    <tr style=\"text-align: right;\">\n",
       "      <th></th>\n",
       "      <th>word</th>\n",
       "      <th>POS</th>\n",
       "      <th>POSNeg1</th>\n",
       "      <th>POSNeg2</th>\n",
       "      <th>POS1</th>\n",
       "      <th>POS2</th>\n",
       "      <th>position</th>\n",
       "      <th>Hedge</th>\n",
       "      <th>HedgeContext</th>\n",
       "      <th>FativeVerb</th>\n",
       "      <th>...</th>\n",
       "      <th>StrongSub</th>\n",
       "      <th>StrongSubContext</th>\n",
       "      <th>WeakSub</th>\n",
       "      <th>WeakSubContext</th>\n",
       "      <th>Polarity</th>\n",
       "      <th>PositiveWord</th>\n",
       "      <th>PositiveWordContext</th>\n",
       "      <th>NegativeWord</th>\n",
       "      <th>NegativeWordContext</th>\n",
       "      <th>BiasLexicon</th>\n",
       "    </tr>\n",
       "  </thead>\n",
       "  <tbody>\n",
       "  </tbody>\n",
       "</table>\n",
       "<p>0 rows × 27 columns</p>\n",
       "</div>"
      ],
      "text/plain": [
       "Empty DataFrame\n",
       "Columns: [word, POS, POSNeg1, POSNeg2, POS1, POS2, position, Hedge, HedgeContext, FativeVerb, FactiveVerbContext, AssertiveVerb, AssertiveVerbContext, ImplicativeVerb, ImplicativeVerbContext, ReportVerb, ReportVerbContext, StrongSub, StrongSubContext, WeakSub, WeakSubContext, Polarity, PositiveWord, PositiveWordContext, NegativeWord, NegativeWordContext, BiasLexicon]\n",
       "Index: []\n",
       "\n",
       "[0 rows x 27 columns]"
      ]
     },
     "execution_count": 2,
     "metadata": {},
     "output_type": "execute_result"
    }
   ],
   "source": [
    "#List of Lingusitic features to be considered while analysing a token\n",
    "\n",
    "features = {\n",
    "        'word':[],\n",
    "        'POS':[],\n",
    "        'POSNeg1':[],\n",
    "        'POSNeg2':[],\n",
    "        'POS1':[],\n",
    "        'POS2':[],\n",
    "        'position':[],\n",
    "        'Hedge':[],\n",
    "        'HedgeContext':[],\n",
    "        'FativeVerb':[],\n",
    "        'FactiveVerbContext':[],\n",
    "        'AssertiveVerb':[],\n",
    "        'AssertiveVerbContext':[],\n",
    "        'ImplicativeVerb':[],\n",
    "        'ImplicativeVerbContext':[],\n",
    "        'ReportVerb':[],\n",
    "        'ReportVerbContext':[],\n",
    "        'StrongSub':[],\n",
    "        'StrongSubContext':[],\n",
    "        'WeakSub':[],\n",
    "        'WeakSubContext':[],\n",
    "        'Polarity':[],\n",
    "        'PositiveWord':[],\n",
    "        'PositiveWordContext':[],\n",
    "        'NegativeWord':[],\n",
    "        'NegativeWordContext':[],\n",
    "        'BiasLexicon':[]\n",
    "}\n",
    "\n",
    "df = pd.DataFrame(features, columns = [\n",
    "        'word',\n",
    "        'POS',\n",
    "        'POSNeg1',\n",
    "        'POSNeg2',\n",
    "        'POS1',\n",
    "        'POS2',\n",
    "        'position',\n",
    "        'Hedge',\n",
    "        'HedgeContext',\n",
    "        'FativeVerb',\n",
    "        'FactiveVerbContext',\n",
    "        'AssertiveVerb',\n",
    "        'AssertiveVerbContext',\n",
    "        'ImplicativeVerb',\n",
    "        'ImplicativeVerbContext',\n",
    "        'ReportVerb',\n",
    "        'ReportVerbContext',\n",
    "        'StrongSub',\n",
    "        'StrongSubContext',\n",
    "        'WeakSub',\n",
    "        'WeakSubContext',\n",
    "        'Polarity',\n",
    "        'PositiveWord',\n",
    "        'PositiveWordContext',\n",
    "        'NegativeWord',\n",
    "        'NegativeWordContext',\n",
    "        'BiasLexicon']\n",
    "        )\n",
    "df"
   ]
  },
  {
   "cell_type": "code",
   "execution_count": 3,
   "metadata": {},
   "outputs": [
    {
     "data": {
      "text/plain": [
       "'type=strongsubj'"
      ]
     },
     "execution_count": 3,
     "metadata": {},
     "output_type": "execute_result"
    }
   ],
   "source": [
    "def subjectivtiy(string):\n",
    "\n",
    "    file=open(\"data/bias-lexicon/subjandpolar.txt\",\"r\")\n",
    "\n",
    "    for line in file:\n",
    "        words=line.split()\n",
    "        for word in words:\n",
    "            if word == string:\n",
    "                #print(\"found\")\n",
    "                #print(words[0] , words[2])\n",
    "                return words[0]\n",
    "    return False\n",
    "    file.close()\n",
    "\n",
    "string=\"abide\"\n",
    "subjectivtiy(string)"
   ]
  },
  {
   "cell_type": "code",
   "execution_count": 4,
   "metadata": {},
   "outputs": [
    {
     "data": {
      "text/plain": [
       "'priorpolarity=positive'"
      ]
     },
     "execution_count": 4,
     "metadata": {},
     "output_type": "execute_result"
    }
   ],
   "source": [
    "def polarity(string):\n",
    "    \n",
    "    file=open(\"data/bias-lexicon/subjandpolar.txt\",\"r\")\n",
    "\n",
    "    for line in file:\n",
    "        words=line.split()\n",
    "        for word in words:\n",
    "            if word == string:\n",
    "                #print(\"found\")\n",
    "                #print(words[2] , words[5])\n",
    "                return words[5]\n",
    "    return False\n",
    "    file.close()\n",
    "string=\"abide\"\n",
    "polarity(string)"
   ]
  },
  {
   "cell_type": "code",
   "execution_count": 5,
   "metadata": {},
   "outputs": [
    {
     "data": {
      "text/plain": [
       "True"
      ]
     },
     "execution_count": 5,
     "metadata": {},
     "output_type": "execute_result"
    }
   ],
   "source": [
    "def positivewords(string):\n",
    "    \n",
    "    file=open(\"data/bias-lexicon/positive-words.txt\",\"r\")\n",
    "    for line in file:\n",
    "        words=line.split()\n",
    "        positive = False\n",
    "        if words[0] == string:\n",
    "            positive = True\n",
    "            return positive\n",
    "        \n",
    "    return positive\n",
    "    file.close()\n",
    "string=\"accurately\"\n",
    "positivewords(string)"
   ]
  },
  {
   "cell_type": "code",
   "execution_count": 6,
   "metadata": {},
   "outputs": [
    {
     "data": {
      "text/plain": [
       "False"
      ]
     },
     "execution_count": 6,
     "metadata": {},
     "output_type": "execute_result"
    }
   ],
   "source": [
    "def negativewords(string):\n",
    "    \n",
    "    file=open(\"data/bias-lexicon/negative-words.txt\",\"r\")\n",
    "    for line in file:\n",
    "        words=line.split()\n",
    "        negative = False\n",
    "        if words[0] == string:\n",
    "            negative = True\n",
    "            return negative\n",
    "        \n",
    "    return negative\n",
    "    file.close()\n",
    "string=\"accurately\"\n",
    "negativewords(string)"
   ]
  },
  {
   "cell_type": "code",
   "execution_count": 7,
   "metadata": {},
   "outputs": [
    {
     "data": {
      "text/plain": [
       "True"
      ]
     },
     "execution_count": 7,
     "metadata": {},
     "output_type": "execute_result"
    }
   ],
   "source": [
    "def factives_hooper(string):\n",
    "    \n",
    "    file=open(\"data/bias-lexicon/factives_hooper1975.txt\",\"r\")\n",
    "    for line in file:\n",
    "        words=line.split()\n",
    "        factives = False\n",
    "        if words[0] == string:\n",
    "            factives = True\n",
    "            return factives\n",
    "        \n",
    "    return factives\n",
    "    file.close()\n",
    "string=\"discover\"\n",
    "factives_hooper(string)"
   ]
  },
  {
   "cell_type": "code",
   "execution_count": 8,
   "metadata": {},
   "outputs": [
    {
     "data": {
      "text/plain": [
       "True"
      ]
     },
     "execution_count": 8,
     "metadata": {},
     "output_type": "execute_result"
    }
   ],
   "source": [
    "def hedges(string):\n",
    "    file=open(\"data/bias-lexicon/hedges_hyland2005.txt\",\"r\")\n",
    "    for line in file:\n",
    "        words=line.split()\n",
    "        hedge = False\n",
    "        if words[0] == string:\n",
    "            hedge = True\n",
    "            return hedge\n",
    "    return hedge\n",
    "    file.close()\n",
    "string=\"largely\"\n",
    "hedges(string)"
   ]
  },
  {
   "cell_type": "code",
   "execution_count": null,
   "metadata": {},
   "outputs": [],
   "source": []
  }
 ],
 "metadata": {
  "kernelspec": {
   "display_name": "Python 3",
   "language": "python",
   "name": "python3"
  },
  "language_info": {
   "codemirror_mode": {
    "name": "ipython",
    "version": 3
   },
   "file_extension": ".py",
   "mimetype": "text/x-python",
   "name": "python",
   "nbconvert_exporter": "python",
   "pygments_lexer": "ipython3",
   "version": "3.8.3"
  }
 },
 "nbformat": 4,
 "nbformat_minor": 2
}
