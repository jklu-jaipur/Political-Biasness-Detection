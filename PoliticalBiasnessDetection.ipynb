{
 "cells": [
  {
   "cell_type": "markdown",
   "metadata": {},
   "source": [
    "# Importing Packages\n"
   ]
  },
  {
   "cell_type": "code",
   "execution_count": 2,
   "metadata": {},
   "outputs": [],
   "source": [
    "'''If packages are not found then use: pip install package_name'''\n",
    "import pandas as pd\n",
    "import re\n",
    "import string\n",
    "from textblob import TextBlob\n",
    "import nltk"
   ]
  },
  {
   "cell_type": "markdown",
   "metadata": {},
   "source": [
    "# Data pre processing and data cleaning"
   ]
  },
  {
   "cell_type": "code",
   "execution_count": 36,
   "metadata": {},
   "outputs": [
    {
     "name": "stdout",
     "output_type": "stream",
     "text": [
      "                                              Article     Label\n",
      "0   LUCKNOW: Even as the Opposition has been mount...       BJP\n",
      "1   JALANDHAR: While Punjab BJP cadre appear enthu...       BJP\n",
      "2   Protestors opposing the Citizenship Amendment ...      None\n",
      "3   Addressing a rally at Badarpur Assembly consti...       BJP\n",
      "4   HYDERABAD: Immediately after TRS swept the civ...       BJP\n",
      "..                                                ...       ...\n",
      "80  The complete collapse of the prime minister Na...  Congress\n",
      "81  States have different strategies for different...       BJP\n",
      "82  .. Was nayudugaru? \"Due to the economic intere...  congress\n",
      "83  Amit Shah, BJP national president Amit Shah's ...       BJP\n",
      "84  In the case of the aid in the development of a...       BJP\n",
      "\n",
      "[85 rows x 2 columns]\n",
      "LUCKNOW: Even as the Opposition has been mounting attack on government over the amended citizenship law by calling it anti-Muslim, BJP has come up with a plan to use the legislation to consolidate its support base among Dalits in the state, considered a core vote bank of BSP.\n",
      "\n",
      "Top BJP sources said the party has directed leaders and cadre to visit Dalit-dominated pockets and tell them that the citizenship law is in favour of SCs and STs who migrated to India after facing persecution in Pakistan, Bangladesh and Afghanistan.\n",
      "\n",
      "BJP also plans to use the promulgation of the new citizenship law to win over educated youth ahead of elections for the 11 graduates' and teachers' constituency seats of the legislative council. Sources said the party seeks to neutralize the Opposition's allegations accusing BJP of bringing a law against Muslims, Dalits and poor.\n",
      "\n",
      "The saffron party has roped in its Dalit cadres in the drive, days after PM Narendra Modi said that most of the persecuted minorities in Paksitan, Bangladesh and Afghanistan belonged to lower castes.\n",
      "\n",
      "UP BJP general secretary and in charge of the SC/ST Morcha, Govind Narayan Shukla confirmed that SC cadres will be part of the ongoing Jan Jagran campaign to remove any apprehensions among Dalits about the citizenship law.\n",
      "\n",
      "He said, \"The party has asked all its organisational wings to fan out across the state, essentially in violence-hit areas, for interactions.\"\n",
      "\n",
      "Some Dalits got swayed by the Opposition propaganda during anti-CAA protests, said another party leader. \"Dalits and poor need to be told separately that there is nothing against them in the law,\" he said.\n",
      "\n",
      "UP BJP chief Swatantra Dev Singh and general secretary (organisation) Sunil Bansal will directly monitor the campaign through WhatsApp groups, said sources. Party functionaries have been asked to click photos of their meetings with different caste groups and upload them on the groups.\n"
     ]
    }
   ],
   "source": [
    "class dataPreProcessing:\n",
    "    def __init__(self,path):\n",
    "        self.data=pd.read_csv(path)\n",
    "    def read_data(self):\n",
    "        return self.data\n",
    "    def clean_article(self,article):\n",
    "        article=article.lower()\n",
    "        article = re.sub('\\[.*?\\]', '', article)\n",
    "        article = re.sub('[%s]' % re.escape(string.punctuation), '', article)\n",
    "        article = re.sub('\\w*\\d\\w*', '', article)\n",
    "        return article\n",
    "    def clean_dataset(self):\n",
    "        for i in range(len(self.data)):\n",
    "            self.data['Article'][i]=self.clean_article(self.data['Article'][i])\n",
    "        return self.data\n",
    "\n",
    "data = dataPreProcessing('data/sample-data-1.csv')\n",
    "print(data.read_data())\n",
    "print(data.read_data()['Article'][0])              # for comparison of articles"
   ]
  },
  {
   "cell_type": "code",
   "execution_count": 37,
   "metadata": {},
   "outputs": [
    {
     "name": "stdout",
     "output_type": "stream",
     "text": [
      "                                              Article     Label\n",
      "0   lucknow even as the opposition has been mounti...       BJP\n",
      "1   jalandhar while punjab bjp cadre appear enthus...       BJP\n",
      "2   protestors opposing the citizenship amendment ...      None\n",
      "3   addressing a rally at badarpur assembly consti...       BJP\n",
      "4   hyderabad immediately after trs swept the civi...       BJP\n",
      "..                                                ...       ...\n",
      "80  the complete collapse of the prime minister na...  Congress\n",
      "81  states have different strategies for different...       BJP\n",
      "82   was nayudugaru due to the economic interests ...  congress\n",
      "83  amit shah bjp national president amit shahs le...       BJP\n",
      "84  in the case of the aid in the development of a...       BJP\n",
      "\n",
      "[85 rows x 2 columns]\n",
      "lucknow even as the opposition has been mounting attack on government over the amended citizenship law by calling it antimuslim bjp has come up with a plan to use the legislation to consolidate its support base among dalits in the state considered a core vote bank of bsp\n",
      "\n",
      "top bjp sources said the party has directed leaders and cadre to visit dalitdominated pockets and tell them that the citizenship law is in favour of scs and sts who migrated to india after facing persecution in pakistan bangladesh and afghanistan\n",
      "\n",
      "bjp also plans to use the promulgation of the new citizenship law to win over educated youth ahead of elections for the  graduates and teachers constituency seats of the legislative council sources said the party seeks to neutralize the oppositions allegations accusing bjp of bringing a law against muslims dalits and poor\n",
      "\n",
      "the saffron party has roped in its dalit cadres in the drive days after pm narendra modi said that most of the persecuted minorities in paksitan bangladesh and afghanistan belonged to lower castes\n",
      "\n",
      "up bjp general secretary and in charge of the scst morcha govind narayan shukla confirmed that sc cadres will be part of the ongoing jan jagran campaign to remove any apprehensions among dalits about the citizenship law\n",
      "\n",
      "he said the party has asked all its organisational wings to fan out across the state essentially in violencehit areas for interactions\n",
      "\n",
      "some dalits got swayed by the opposition propaganda during anticaa protests said another party leader dalits and poor need to be told separately that there is nothing against them in the law he said\n",
      "\n",
      "up bjp chief swatantra dev singh and general secretary organisation sunil bansal will directly monitor the campaign through whatsapp groups said sources party functionaries have been asked to click photos of their meetings with different caste groups and upload them on the groups\n"
     ]
    }
   ],
   "source": [
    "print(data.clean_dataset())\n",
    "print(data.clean_dataset()['Article'][0])    #for comparison of articles"
   ]
  },
  {
   "cell_type": "code",
   "execution_count": 38,
   "metadata": {},
   "outputs": [
    {
     "data": {
      "text/html": [
       "<div>\n",
       "<style scoped>\n",
       "    .dataframe tbody tr th:only-of-type {\n",
       "        vertical-align: middle;\n",
       "    }\n",
       "\n",
       "    .dataframe tbody tr th {\n",
       "        vertical-align: top;\n",
       "    }\n",
       "\n",
       "    .dataframe thead th {\n",
       "        text-align: right;\n",
       "    }\n",
       "</style>\n",
       "<table border=\"1\" class=\"dataframe\">\n",
       "  <thead>\n",
       "    <tr style=\"text-align: right;\">\n",
       "      <th></th>\n",
       "      <th>Article</th>\n",
       "      <th>Label</th>\n",
       "    </tr>\n",
       "  </thead>\n",
       "  <tbody>\n",
       "    <tr>\n",
       "      <td>0</td>\n",
       "      <td>lucknow even as the opposition has been mounti...</td>\n",
       "      <td>BJP</td>\n",
       "    </tr>\n",
       "    <tr>\n",
       "      <td>1</td>\n",
       "      <td>jalandhar while punjab bjp cadre appear enthus...</td>\n",
       "      <td>BJP</td>\n",
       "    </tr>\n",
       "    <tr>\n",
       "      <td>2</td>\n",
       "      <td>protestors opposing the citizenship amendment ...</td>\n",
       "      <td>None</td>\n",
       "    </tr>\n",
       "    <tr>\n",
       "      <td>3</td>\n",
       "      <td>addressing a rally at badarpur assembly consti...</td>\n",
       "      <td>BJP</td>\n",
       "    </tr>\n",
       "    <tr>\n",
       "      <td>4</td>\n",
       "      <td>hyderabad immediately after trs swept the civi...</td>\n",
       "      <td>BJP</td>\n",
       "    </tr>\n",
       "    <tr>\n",
       "      <td>...</td>\n",
       "      <td>...</td>\n",
       "      <td>...</td>\n",
       "    </tr>\n",
       "    <tr>\n",
       "      <td>80</td>\n",
       "      <td>the complete collapse of the prime minister na...</td>\n",
       "      <td>Congress</td>\n",
       "    </tr>\n",
       "    <tr>\n",
       "      <td>81</td>\n",
       "      <td>states have different strategies for different...</td>\n",
       "      <td>BJP</td>\n",
       "    </tr>\n",
       "    <tr>\n",
       "      <td>82</td>\n",
       "      <td>was nayudugaru due to the economic interests ...</td>\n",
       "      <td>congress</td>\n",
       "    </tr>\n",
       "    <tr>\n",
       "      <td>83</td>\n",
       "      <td>amit shah bjp national president amit shahs le...</td>\n",
       "      <td>BJP</td>\n",
       "    </tr>\n",
       "    <tr>\n",
       "      <td>84</td>\n",
       "      <td>in the case of the aid in the development of a...</td>\n",
       "      <td>BJP</td>\n",
       "    </tr>\n",
       "  </tbody>\n",
       "</table>\n",
       "<p>85 rows × 2 columns</p>\n",
       "</div>"
      ],
      "text/plain": [
       "                                              Article     Label\n",
       "0   lucknow even as the opposition has been mounti...       BJP\n",
       "1   jalandhar while punjab bjp cadre appear enthus...       BJP\n",
       "2   protestors opposing the citizenship amendment ...      None\n",
       "3   addressing a rally at badarpur assembly consti...       BJP\n",
       "4   hyderabad immediately after trs swept the civi...       BJP\n",
       "..                                                ...       ...\n",
       "80  the complete collapse of the prime minister na...  Congress\n",
       "81  states have different strategies for different...       BJP\n",
       "82   was nayudugaru due to the economic interests ...  congress\n",
       "83  amit shah bjp national president amit shahs le...       BJP\n",
       "84  in the case of the aid in the development of a...       BJP\n",
       "\n",
       "[85 rows x 2 columns]"
      ]
     },
     "execution_count": 38,
     "metadata": {},
     "output_type": "execute_result"
    }
   ],
   "source": [
    "data.read_data()"
   ]
  },
  {
   "cell_type": "markdown",
   "metadata": {},
   "source": [
    "# Visualisations"
   ]
  },
  {
   "cell_type": "code",
   "execution_count": null,
   "metadata": {},
   "outputs": [],
   "source": []
  }
 ],
 "metadata": {
  "kernelspec": {
   "display_name": "Python 3",
   "language": "python",
   "name": "python3"
  },
  "language_info": {
   "codemirror_mode": {
    "name": "ipython",
    "version": 3
   },
   "file_extension": ".py",
   "mimetype": "text/x-python",
   "name": "python",
   "nbconvert_exporter": "python",
   "pygments_lexer": "ipython3",
   "version": "3.7.4"
  }
 },
 "nbformat": 4,
 "nbformat_minor": 2
}
